{
  "nbformat": 4,
  "nbformat_minor": 0,
  "metadata": {
    "colab": {
      "provenance": [],
      "gpuType": "T4",
      "private_outputs": true,
      "mount_file_id": "1Rq_PRuR4qa8CiIKgp4vF4PoXoI_gPv1f",
      "authorship_tag": "ABX9TyOsXNC6EIfYC66H1HHQgXs1",
      "include_colab_link": true
    },
    "kernelspec": {
      "name": "python3",
      "display_name": "Python 3"
    },
    "language_info": {
      "name": "python"
    },
    "gpuClass": "standard"
  },
  "cells": [
    {
      "cell_type": "markdown",
      "metadata": {
        "id": "view-in-github",
        "colab_type": "text"
      },
      "source": [
        "<a href=\"https://colab.research.google.com/github/PoriyaAbdollahi/TradingBot/blob/master/Tradingbot.ipynb\" target=\"_parent\"><img src=\"https://colab.research.google.com/assets/colab-badge.svg\" alt=\"Open In Colab\"/></a>"
      ]
    },
    {
      "cell_type": "markdown",
      "source": [
        "# Prepare Librarys  And dataset for training"
      ],
      "metadata": {
        "id": "50zV7Zsn7jrr"
      }
    },
    {
      "cell_type": "code",
      "execution_count": null,
      "metadata": {
        "id": "C0uvmjAUprWz"
      },
      "outputs": [],
      "source": [
        "!pip install stable-baselines3 gym-anytrading gym==0.25.2 yahoo_fin"
      ]
    },
    {
      "cell_type": "code",
      "source": [
        "# Gym Stuff\n",
        "import gym\n",
        "import gym_anytrading\n",
        "\n",
        "# Stable base line rl stuff\n",
        "from stable_baselines3.common.vec_env import DummyVecEnv\n",
        "from stable_baselines3 import A2C  \n",
        "\n",
        "# processing libs\n",
        "import numpy as np\n",
        "import pandas as pd\n",
        "from matplotlib import pyplot as plt \n",
        "\n",
        "# data downloader\n",
        "from yahoo_fin import stock_info as si\n",
        "import datetime"
      ],
      "metadata": {
        "id": "iagLJ0m9tErf"
      },
      "execution_count": null,
      "outputs": []
    },
    {
      "cell_type": "code",
      "source": [
        "# use local data\n",
        "# df = pd.read_csv('data.csv')\n",
        "\n",
        "# download data from yahoo finance \n",
        "# Define the ticker symbol for MATIC-USD\n",
        "ticker = \"MATIC-USD\"\n",
        "\n",
        "# Calculate the start and end dates for the five-year period\n",
        "end_date = datetime.datetime.now().strftime('%Y-%m-%d')\n",
        "start_date = (datetime.datetime.now() - datetime.timedelta(days=5*365)).strftime('%Y-%m-%d')\n",
        "\n",
        "# Download the historical data using yahoo_fin\n",
        "data = si.get_data(ticker, start_date, end_date)\n",
        "\n",
        "# Convert the data to a DataFrame\n",
        "df = pd.DataFrame(data)\n",
        "\n",
        "# Rename the index column to \"Date\"\n",
        "df = df.rename_axis(\"Date\").reset_index()\n",
        "\n",
        "# Display the DataFrame\n",
        "print(df)\n"
      ],
      "metadata": {
        "id": "VQo0En5w3l5i"
      },
      "execution_count": null,
      "outputs": []
    },
    {
      "cell_type": "code",
      "source": [
        "df.head()"
      ],
      "metadata": {
        "id": "434ilUi93z-W"
      },
      "execution_count": null,
      "outputs": []
    },
    {
      "cell_type": "code",
      "source": [
        "del df[\"adjclose\"]\n",
        "del df[\"ticker\"]\n",
        "df = df.rename(columns={'open':'Open' , 'high':'High' , 'low':'Low' , 'close':'Close' ,'volume':'Volume'})"
      ],
      "metadata": {
        "id": "9UOO_rn_YmR4"
      },
      "execution_count": null,
      "outputs": []
    },
    {
      "cell_type": "code",
      "source": [
        "df.dtypes"
      ],
      "metadata": {
        "id": "SnF9EPdC7Oav"
      },
      "execution_count": null,
      "outputs": []
    },
    {
      "cell_type": "code",
      "source": [
        "df['Date'] = pd.to_datetime(df['Date'])\n",
        "df.dtypes"
      ],
      "metadata": {
        "id": "TK48TIF_4JfW"
      },
      "execution_count": null,
      "outputs": []
    },
    {
      "cell_type": "code",
      "source": [
        "df.set_index('Date',inplace=True)\n",
        "df.head()"
      ],
      "metadata": {
        "id": "JWscOjXH4RW1"
      },
      "execution_count": null,
      "outputs": []
    },
    {
      "cell_type": "markdown",
      "source": [
        "# Environment setup"
      ],
      "metadata": {
        "id": "-dZbakvs75N6"
      }
    },
    {
      "cell_type": "code",
      "source": [
        "env = gym.make('stocks-v0' , df=df , frame_bound=(10,1500) , window_size=10)"
      ],
      "metadata": {
        "id": "hiBB-6R_7Euq"
      },
      "execution_count": null,
      "outputs": []
    },
    {
      "cell_type": "code",
      "source": [
        "env.signal_features"
      ],
      "metadata": {
        "id": "9wzvjc9j7SgH"
      },
      "execution_count": null,
      "outputs": []
    },
    {
      "cell_type": "code",
      "source": [
        "state = env.reset()\n",
        "while True:\n",
        "  action = env.action_space.sample()\n",
        "  n_state,reward , done , info = env.step(action)\n",
        "  if done:\n",
        "    print('info',info)\n",
        "    break\n",
        "plt.figure(figsize=(15,6))\n",
        "plt.cla()\n",
        "env.render_all()\n",
        "plt.show()        "
      ],
      "metadata": {
        "id": "aZaI_bQ287fk"
      },
      "execution_count": null,
      "outputs": []
    },
    {
      "cell_type": "code",
      "source": [
        "env.reset()"
      ],
      "metadata": {
        "id": "OKo9Isse_Hjk"
      },
      "execution_count": null,
      "outputs": []
    },
    {
      "cell_type": "markdown",
      "source": [
        "# Training\n"
      ],
      "metadata": {
        "id": "HAPupwi28Yf6"
      }
    },
    {
      "cell_type": "code",
      "source": [
        "env_maker = lambda:gym.make('stocks-v0',df=df, frame_bound=(10,1500),window_size=10)\n",
        "env= DummyVecEnv([env_maker])"
      ],
      "metadata": {
        "id": "Fggyn49tB6cx"
      },
      "execution_count": null,
      "outputs": []
    },
    {
      "cell_type": "code",
      "source": [
        "import os \n",
        "log_path = os.path.join('Training' , 'Logs')\n",
        "model = A2C('MlpPolicy',env ,verbose=1 ,tensorboard_log=log_path)\n",
        "model.learn(total_timesteps=100000)"
      ],
      "metadata": {
        "id": "fbWWdXAsCUr6"
      },
      "execution_count": null,
      "outputs": []
    },
    {
      "cell_type": "code",
      "source": [
        "model.learn(total_timesteps=1000000)"
      ],
      "metadata": {
        "id": "WLme3gR6T61_"
      },
      "execution_count": null,
      "outputs": []
    },
    {
      "cell_type": "code",
      "source": [
        "\n",
        "env = gym.make('stocks-v0' , df=df, frame_bound =( 130,160 ),window_size=10)\n",
        "obs = env.reset()\n",
        "while True:\n",
        "  obs = obs[np.newaxis, ...]\n",
        "  action , _states = model.predict(obs)\n",
        "  obs ,rewards , done , info = env.step(action)\n",
        "  if done:\n",
        "    print('info',info)\n",
        "    break"
      ],
      "metadata": {
        "id": "vMHJ-pO6ECFG"
      },
      "execution_count": null,
      "outputs": []
    },
    {
      "cell_type": "code",
      "source": [
        "plt.figure(figsize=(15,6))\n",
        "plt.cla()\n",
        "env.render_all()\n",
        "plt.show()        "
      ],
      "metadata": {
        "id": "MHA0U8lPHsyi"
      },
      "execution_count": null,
      "outputs": []
    },
    {
      "cell_type": "markdown",
      "source": [
        "# Training using Indicatiors"
      ],
      "metadata": {
        "id": "jhuEGaGn7V1Z"
      }
    },
    {
      "cell_type": "code",
      "source": [
        "!pip install finta"
      ],
      "metadata": {
        "id": "7ewXijNjrbhX"
      },
      "execution_count": null,
      "outputs": []
    },
    {
      "cell_type": "code",
      "source": [
        "from gym_anytrading.envs import StocksEnv\n",
        "from finta import TA"
      ],
      "metadata": {
        "id": "AJFyaFasshp2"
      },
      "execution_count": null,
      "outputs": []
    },
    {
      "cell_type": "code",
      "source": [
        "df['SMA']  = TA.SMA(df,12)\n",
        "df['RSI']  = TA.RSI(df)\n",
        "df['OBV']  = TA.OBV(df)\n",
        "df.fillna(0,inplace=True)"
      ],
      "metadata": {
        "id": "G6IWfcnwsuXn"
      },
      "execution_count": null,
      "outputs": []
    },
    {
      "cell_type": "code",
      "source": [
        "df.head()"
      ],
      "metadata": {
        "id": "2qY_2ayEs-Pu"
      },
      "execution_count": null,
      "outputs": []
    },
    {
      "cell_type": "code",
      "source": [
        "def add_signals(env):\n",
        "  start = env.frame_bound[0] - env.window_size\n",
        "  end = env.frame_bound[1] \n",
        "  prices = env.df.loc[:,'Low'].to_numpy()[start:end]\n",
        "  signal_features = env.df.loc[:,['Low' , 'Volume' , 'SMA', 'RSI' , 'OBV' ]].to_numpy()[start:end]\n",
        "  return prices , signal_features\n"
      ],
      "metadata": {
        "id": "Wtn8m12ewcr5"
      },
      "execution_count": null,
      "outputs": []
    },
    {
      "cell_type": "code",
      "source": [
        "class MyCustomEnv(StocksEnv):\n",
        "  _process_data = add_signals\n",
        "\n",
        "env2=  MyCustomEnv(df=df , window_size = 12 , frame_bound = (12,1500))"
      ],
      "metadata": {
        "id": "M8Y763WxxhTA"
      },
      "execution_count": null,
      "outputs": []
    },
    {
      "cell_type": "code",
      "source": [
        "env_maker = lambda:env2\n",
        "env2= DummyVecEnv([env_maker])"
      ],
      "metadata": {
        "id": "LprVNmOx2HWb"
      },
      "execution_count": null,
      "outputs": []
    },
    {
      "cell_type": "code",
      "source": [
        "import os \n",
        "log_path = os.path.join('Training' , 'Logs')\n",
        "model = A2C('MlpPolicy',env2 ,verbose=1 ,tensorboard_log=log_path)\n",
        "model.learn(total_timesteps=1000000)"
      ],
      "metadata": {
        "id": "NzPa_v1G2XBp"
      },
      "execution_count": null,
      "outputs": []
    },
    {
      "cell_type": "code",
      "source": [
        "env2 = MyCustomEnv( df=df, window_size=12,frame_bound=(1430,1460))\n",
        "obs = env2.reset()\n",
        "while True:\n",
        "  obs = obs[np.newaxis, ...]\n",
        "  action , _states = model.predict(obs)\n",
        "  obs ,rewards , done , info = env2.step(action)\n",
        "  if done:\n",
        "    print('info',info)\n",
        "    break"
      ],
      "metadata": {
        "id": "ZyQubkEI3rOs"
      },
      "execution_count": null,
      "outputs": []
    },
    {
      "cell_type": "code",
      "source": [
        "plt.figure(figsize=(15,6))\n",
        "plt.cla()\n",
        "env2.render_all()\n",
        "plt.show()    "
      ],
      "metadata": {
        "id": "xGj8vs_o6mMs"
      },
      "execution_count": null,
      "outputs": []
    },
    {
      "cell_type": "markdown",
      "source": [
        "# Save Model\n"
      ],
      "metadata": {
        "id": "4rliE3wc3zSo"
      }
    },
    {
      "cell_type": "code",
      "source": [
        "model.save(\"a2cModel\")\n"
      ],
      "metadata": {
        "id": "X05PJdq9QAyK"
      },
      "execution_count": null,
      "outputs": []
    },
    {
      "cell_type": "markdown",
      "source": [
        "# Load Pre Trained Model"
      ],
      "metadata": {
        "id": "vju-8Bd23yPx"
      }
    },
    {
      "cell_type": "code",
      "source": [
        "model = A2C.load('/content/drive/MyDrive/MyModels/a2cModel')"
      ],
      "metadata": {
        "id": "rDAMCcs3Kh91"
      },
      "execution_count": null,
      "outputs": []
    },
    {
      "cell_type": "code",
      "source": [
        "import tensorflow as tf\n",
        "\n",
        "# Replace 'path_to_saved_model' with the path to your SavedModel directory\n",
        "loaded_model = tf.saved_model.load('A2CModel')\n",
        "env = gym.make('stocks-v0' , df=df , frame_bound=(5,100) , window_size=5)\n",
        "env.model = loaded_model"
      ],
      "metadata": {
        "id": "mEAnjMGPLS_G"
      },
      "execution_count": null,
      "outputs": []
    }
  ]
}